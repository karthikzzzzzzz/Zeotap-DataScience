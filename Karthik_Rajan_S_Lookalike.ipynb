{
  "nbformat": 4,
  "nbformat_minor": 0,
  "metadata": {
    "colab": {
      "provenance": []
    },
    "kernelspec": {
      "name": "python3",
      "display_name": "Python 3"
    },
    "language_info": {
      "name": "python"
    }
  },
  "cells": [
    {
      "cell_type": "code",
      "source": [
        "import pandas as pd\n",
        "import numpy as np\n",
        "from sklearn.metrics.pairwise import cosine_similarity\n",
        "from sklearn.preprocessing import StandardScaler"
      ],
      "metadata": {
        "id": "GTqaQWoJb-Ys"
      },
      "execution_count": 2,
      "outputs": []
    },
    {
      "cell_type": "code",
      "source": [
        "customers_df = pd.read_csv(\"Customers.csv\")\n",
        "products_df = pd.read_csv(\"Products.csv\")\n"
      ],
      "metadata": {
        "id": "VDEzIMKoj-jS"
      },
      "execution_count": 4,
      "outputs": []
    },
    {
      "cell_type": "code",
      "source": [
        "np.random.seed(42)\n",
        "product_ids = products_df['ProductID'].unique()\n",
        "customer_preferences = pd.DataFrame(\n",
        "    np.random.rand(len(customers_df), len(product_ids)),\n",
        "    columns=product_ids,\n",
        "    index=customers_df['CustomerID']\n",
        ")\n",
        "\n",
        "customer_features = pd.get_dummies(customers_df.set_index('CustomerID')['Region'])\n",
        "customer_data = pd.concat([customer_features, customer_preferences], axis=1)"
      ],
      "metadata": {
        "id": "-zVd5HTxcrm6"
      },
      "execution_count": 5,
      "outputs": []
    },
    {
      "cell_type": "code",
      "source": [
        "similarity_matrix = cosine_similarity(customer_data)\n",
        "similarity_df = pd.DataFrame(similarity_matrix, index=customer_data.index, columns=customer_data.index)\n"
      ],
      "metadata": {
        "id": "4wrnMXuAdC_I"
      },
      "execution_count": 6,
      "outputs": []
    },
    {
      "cell_type": "code",
      "source": [
        "lookalike_map = {}\n",
        "for customer_id in customers_df['CustomerID'][:20]:\n",
        "    similarities = similarity_df.loc[customer_id].drop(customer_id).sort_values(ascending=False)\n",
        "    top_3 = similarities.head(3).to_dict()\n",
        "    lookalike_map[customer_id] = [{\"cust_id\": k, \"score\": v} for k, v in top_3.items()]"
      ],
      "metadata": {
        "id": "zTOZNe21aK-N"
      },
      "execution_count": 11,
      "outputs": []
    },
    {
      "cell_type": "code",
      "source": [
        "lookalike_df = pd.DataFrame({\n",
        "    \"cust_id\": lookalike_map.keys(),\n",
        "    \"lookalikes\": [str(v) for v in lookalike_map.values()]\n",
        "})\n",
        "lookalike_df.to_csv(\"Lookalike.csv\", index=False)\n",
        "\n",
        "\n",
        "print(\"Lookalike Map for the first 20 customers:\")\n",
        "print(lookalike_df.head())\n"
      ],
      "metadata": {
        "colab": {
          "base_uri": "https://localhost:8080/"
        },
        "id": "MgUlYiUTdQxU",
        "outputId": "aa4bfd75-d4a6-4d46-b1a2-70fb8fa25ef7"
      },
      "execution_count": 8,
      "outputs": [
        {
          "output_type": "stream",
          "name": "stdout",
          "text": [
            "Lookalike Map for the first 20 customers:\n",
            "  cust_id                                         lookalikes\n",
            "0   C0001  [{'cust_id': 'C0151', 'score': 0.8297433031394...\n",
            "1   C0002  [{'cust_id': 'C0161', 'score': 0.8038080606351...\n",
            "2   C0003  [{'cust_id': 'C0148', 'score': 0.8366096745345...\n",
            "3   C0004  [{'cust_id': 'C0012', 'score': 0.8226788659845...\n",
            "4   C0005  [{'cust_id': 'C0007', 'score': 0.8001205105497...\n"
          ]
        }
      ]
    }
  ]
}